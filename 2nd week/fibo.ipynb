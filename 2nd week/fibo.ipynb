{
 "cells": [
  {
   "cell_type": "code",
   "execution_count": 19,
   "metadata": {},
   "outputs": [],
   "source": [
    "import time\n",
    "\n",
    "def fibo_iteration(n):\n",
    "    cur, next = 0, 1\n",
    "    for _ in range(n):\n",
    "        cur, next=next, cur+next\n",
    "        print(f\"{cur} \", end=\"\")\n",
    "    return 0"
   ]
  },
  {
   "cell_type": "code",
   "execution_count": 20,
   "metadata": {},
   "outputs": [],
   "source": [
    "def fibo_recursion(n):\n",
    "    fibo=lambda n: 1 if n<= 2 else fibo(n-1)+fibo(n-2)\n",
    "    for i in range(n):\n",
    "        print(f\"{fibo(i)} \", end=\"\")"
   ]
  },
  {
   "cell_type": "code",
   "execution_count": 21,
   "metadata": {},
   "outputs": [
    {
     "name": "stdout",
     "output_type": "stream",
     "text": [
      "1 1 2 3 5 8 13 21 34 55 89 144 233 377 610 987 1597 2584 4181 6765 10946 17711 28657 46368 75025 121393 196418 317811 514229 832040 \n",
      "0.00100064 sec\n"
     ]
    }
   ],
   "source": [
    "n=int(input(\"n의 값을 입력 >> \"))\n",
    "start=time.time() #시작\n",
    "fibo_iteration(n) # 반복 함수\n",
    "print(f\"\\n{time.time()-start:.8f} sec\") # 종료와 함께 수행시간 출력"
   ]
  },
  {
   "cell_type": "code",
   "execution_count": 22,
   "metadata": {},
   "outputs": [
    {
     "name": "stdout",
     "output_type": "stream",
     "text": [
      "1 1 1 2 3 5 8 13 21 34 55 89 144 233 377 610 987 1597 2584 4181 6765 10946 17711 28657 46368 75025 121393 196418 317811 514229 \n",
      "0.18616962 sec\n"
     ]
    }
   ],
   "source": [
    "start=time.time() # 시작\n",
    "fibo_recursion(n) # 재귀 함수\n",
    "print(f\"\\n{time.time()-start:.8f} sec\") # 종료와 함께 수행시간 출력"
   ]
  },
  {
   "cell_type": "code",
   "execution_count": null,
   "metadata": {},
   "outputs": [],
   "source": []
  }
 ],
 "metadata": {
  "kernelspec": {
   "display_name": "Python 3.9.12 ('base')",
   "language": "python",
   "name": "python3"
  },
  "language_info": {
   "codemirror_mode": {
    "name": "ipython",
    "version": 3
   },
   "file_extension": ".py",
   "mimetype": "text/x-python",
   "name": "python",
   "nbconvert_exporter": "python",
   "pygments_lexer": "ipython3",
   "version": "3.9.12"
  },
  "orig_nbformat": 4,
  "vscode": {
   "interpreter": {
    "hash": "bf59aa1e7a24315c7bdd2be2050ae0bdcec9da7e6e95bb62b9a6c0b6d98d33ad"
   }
  }
 },
 "nbformat": 4,
 "nbformat_minor": 2
}
