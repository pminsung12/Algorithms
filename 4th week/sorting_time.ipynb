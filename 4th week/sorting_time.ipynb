{
 "cells": [
  {
   "cell_type": "code",
   "execution_count": 2,
   "metadata": {},
   "outputs": [],
   "source": [
    "import random\n",
    "import time"
   ]
  },
  {
   "cell_type": "code",
   "execution_count": 3,
   "metadata": {},
   "outputs": [],
   "source": [
    "def swap(arr, i, j):\n",
    "    arr[i], arr[j] = arr[j], arr[i]\n",
    "\n",
    "def selectionSort(arr): #선택정렬\n",
    "    for size in reversed(range(len(arr))):\n",
    "        max_i = 0\n",
    "        for i in range(1, 1+size):\n",
    "            if arr[i] > arr[max_i]:\n",
    "                max_i = i\n",
    "        swap(arr, max_i, size)\n",
    "\n",
    "def bubbleSort(arr): #버블정렬\n",
    "    for size in reversed(range(len(arr))):\n",
    "        for i in range(size):\n",
    "            if arr[i] > arr[i+1]:\n",
    "                swap(arr, i, i+1)\n",
    "                \n",
    "def mergeSort(arr): #병합정렬\n",
    "    if len(arr) > 1:\n",
    "        mid = len(arr)//2\n",
    "        left, right = arr[:mid], arr[mid:]\n",
    "        mergeSort(left)\n",
    "        mergeSort(right)\n",
    "\n",
    "        li, ri, i = 0, 0, 0\n",
    "        while li < len(left) and ri < len(right):\n",
    "            if left[li] < right[ri]:\n",
    "                arr[i] = left[li]\n",
    "                li += 1\n",
    "            else:\n",
    "                arr[i] = right[ri]\n",
    "                ri += 1\n",
    "            i += 1\n",
    "        arr[i:] = left[li:] if li != len(left) else right[ri:]"
   ]
  },
  {
   "cell_type": "code",
   "execution_count": 9,
   "metadata": {},
   "outputs": [],
   "source": [
    "def lets_sort():\n",
    "    arr1=random.sample(range(1000),1000)\n",
    "    arr2=random.sample(range(1000),1000)\n",
    "    arr3=random.sample(range(1000),1000)\n",
    "    start1=time.time()\n",
    "    selectionSort(arr1)\n",
    "    print(f\"Time took by running selectionSort >> {time.time()-start1}\")\n",
    "    start2=time.time()\n",
    "    bubbleSort(arr2)\n",
    "    print(f\"Time took by running bubbleSort    >> {time.time()-start2}\")\n",
    "    start3=time.time()\n",
    "    mergeSort(arr3)\n",
    "    print(f\"Time took by running mergeSort     >> {time.time()-start3}\")"
   ]
  },
  {
   "cell_type": "code",
   "execution_count": 10,
   "metadata": {},
   "outputs": [
    {
     "name": "stdout",
     "output_type": "stream",
     "text": [
      "Time took by running selectionSort >> 0.019016742706298828\n",
      "Time took by running bubbleSort    >> 0.060054779052734375\n",
      "Time took by running mergeSort     >> 0.0010013580322265625\n"
     ]
    }
   ],
   "source": [
    "if __name__ == '__main__':\n",
    "    lets_sort()"
   ]
  },
  {
   "cell_type": "code",
   "execution_count": null,
   "metadata": {},
   "outputs": [],
   "source": []
  }
 ],
 "metadata": {
  "kernelspec": {
   "display_name": "Python 3.9.12 ('base')",
   "language": "python",
   "name": "python3"
  },
  "language_info": {
   "codemirror_mode": {
    "name": "ipython",
    "version": 3
   },
   "file_extension": ".py",
   "mimetype": "text/x-python",
   "name": "python",
   "nbconvert_exporter": "python",
   "pygments_lexer": "ipython3",
   "version": "3.9.12"
  },
  "orig_nbformat": 4,
  "vscode": {
   "interpreter": {
    "hash": "bf59aa1e7a24315c7bdd2be2050ae0bdcec9da7e6e95bb62b9a6c0b6d98d33ad"
   }
  }
 },
 "nbformat": 4,
 "nbformat_minor": 2
}
