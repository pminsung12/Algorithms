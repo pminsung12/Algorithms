{
 "cells": [
  {
   "cell_type": "code",
   "execution_count": 5,
   "metadata": {},
   "outputs": [
    {
     "data": {
      "text/plain": [
       "'주제 : 서울 내 모범음식점 찾기 프로그램\\nInput : 한식/일식/중식 등을 입력\\nProcess : 모범음식점 목록에서 음식점 탐색\\nOutput : 해당 음식점들을 모두 출력'"
      ]
     },
     "execution_count": 5,
     "metadata": {},
     "output_type": "execute_result"
    }
   ],
   "source": [
    "\"\"\"주제 : 서울 내 모범음식점 찾기 프로그램\n",
    "Input : 한식/일식/중식 등을 입력\n",
    "Process : 모범음식점 목록에서 음식점 탐색\n",
    "Output : 해당 음식점들을 모두 출력\"\"\""
   ]
  },
  {
   "cell_type": "code",
   "execution_count": 6,
   "metadata": {},
   "outputs": [],
   "source": [
    "import pandas as pd"
   ]
  },
  {
   "cell_type": "code",
   "execution_count": 7,
   "metadata": {},
   "outputs": [],
   "source": [
    "data=pd.read_excel('C:/Users/pmins/Desktop/LOCALDATA_ALL_12_03_01_E.xlsx')"
   ]
  },
  {
   "cell_type": "code",
   "execution_count": 8,
   "metadata": {},
   "outputs": [],
   "source": [
    "def typeOfRestaurants():\n",
    "    variety=data['음식의유형'].unique()\n",
    "    print(\"=================================================\")\n",
    "    print(\"\\t\\t음식점 분류\")\n",
    "    print(\"=================================================\")\n",
    "    for i in range(len(variety)): \n",
    "        print(f\"{variety[i]} \", end=\"\")\n",
    "        if i%5==4:\n",
    "            print(\"\")\n",
    "    print(\"\\n=================================================\")\n"
   ]
  },
  {
   "cell_type": "code",
   "execution_count": 9,
   "metadata": {},
   "outputs": [],
   "source": [
    "def showAllModel(category):\n",
    "    display(data[data['음식의유형']==category])"
   ]
  },
  {
   "cell_type": "code",
   "execution_count": 10,
   "metadata": {},
   "outputs": [
    {
     "name": "stdout",
     "output_type": "stream",
     "text": [
      "=================================================\n",
      "\t\t음식점 분류\n",
      "=================================================\n",
      "한식 일식 중식 추어탕 양식 \n",
      "기타 육류 오리탕 뷔페식 누룽지탕 \n",
      "경양식 일반음식점(한식) 분식 뷔페 서양식 \n",
      "외국음식 도시락 제조업소 식육취급 식육(숯불구이) 찌개 \n",
      "고기 면,고기 활어 참치 면고기 \n",
      "면 고기뼈 한정식 라이스 국밥 \n",
      "동남아식 스시 탕류 구이 구이류 \n",
      "면류 카레 퓨전 힌식 한식,외국식 \n",
      "참치회 찌개류 찌개,구이류 회류 일 \n",
      "생선회류 숯불구이 식육 베트남식 횟집 \n",
      "생선회 한시 외국음식 쌀국수 백반류 전골류 \n",
      "닭갈비 일반음식점 곰탕류 외국음식점 \n",
      "=================================================\n",
      "프로그램 종료\n"
     ]
    }
   ],
   "source": [
    "typeOfRestaurants()\n",
    "while True:\n",
    "    cmd=input(\"목록을 보고 음식점 종류를 입력 >> (프로그램 종료 : 0)\")\n",
    "    if cmd=='0':\n",
    "        break\n",
    "    showAllModel(cmd)\n",
    "print(\"프로그램 종료\")\n"
   ]
  }
 ],
 "metadata": {
  "kernelspec": {
   "display_name": "Python 3.9.12 ('base')",
   "language": "python",
   "name": "python3"
  },
  "language_info": {
   "codemirror_mode": {
    "name": "ipython",
    "version": 3
   },
   "file_extension": ".py",
   "mimetype": "text/x-python",
   "name": "python",
   "nbconvert_exporter": "python",
   "pygments_lexer": "ipython3",
   "version": "3.9.12"
  },
  "orig_nbformat": 4,
  "vscode": {
   "interpreter": {
    "hash": "bf59aa1e7a24315c7bdd2be2050ae0bdcec9da7e6e95bb62b9a6c0b6d98d33ad"
   }
  }
 },
 "nbformat": 4,
 "nbformat_minor": 2
}
