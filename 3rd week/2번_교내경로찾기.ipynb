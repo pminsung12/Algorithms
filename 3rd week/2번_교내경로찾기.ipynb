{
 "cells": [
  {
   "cell_type": "code",
   "execution_count": 47,
   "metadata": {},
   "outputs": [],
   "source": [
    "#교내 경로 찾기 프로그램\n",
    "import heapq\n",
    "from collections import defaultdict"
   ]
  },
  {
   "cell_type": "code",
   "execution_count": 48,
   "metadata": {},
   "outputs": [],
   "source": [
    "def dijkstra(graph, start, end):\n",
    "  parents=defaultdict()\n",
    "  for c in graph.keys():\n",
    "        if c != start:\n",
    "            parents[c] = None\n",
    "  distances = {node: float('inf') for node in graph}  # start로 부터의 거리 값을 저장\n",
    "  distances[start] = 0  # 시작 값 0\n",
    "  queue = []\n",
    "  heapq.heappush(queue, [distances[start], start])  # 시작 노드부터 탐색 시작\n",
    "\n",
    "  while queue:  # queue에 남아 있는 노드가 없으면 끝\n",
    "    cur_dist, cur_node = heapq.heappop(queue)  # 탐색 할 노드, 거리\n",
    "\n",
    "    if distances[cur_node] < cur_dist:  # 기존에 있는 거리보다 길다면, 볼 필요도 없음\n",
    "      continue\n",
    "    \n",
    "    for new_node, new_dist in graph[cur_node].items():\n",
    "      distance = cur_dist + new_dist  # 해당 노드를 거쳐 갈 때 거리\n",
    "      if distance < distances[new_node]:  # 알고 있는 거리 보다 작으면 갱신\n",
    "        distances[new_node] = distance\n",
    "        heapq.heappush(queue, [distance, new_node])  # 다음 인접 거리를 계산 하기 위해 큐에 삽입\n",
    "        parents[new_node] = cur_node \n",
    "   \n",
    "  # 시작부터 끝점까지 경로 생성\n",
    "  route = []\n",
    "  current = end\n",
    "  while current != start:\n",
    "      route.append(current)\n",
    "      current = parents[current]\n",
    "  route.append(start)\n",
    "  route.reverse()\n",
    "  \n",
    "  #루트 출력\n",
    "  print(\"============최소경로 소요시간=============\")\n",
    "  print(\"->\".join(i for i in route), end=\"\")\n",
    "  print(f'       총 소요시간 : {distances[end]}분')\n",
    "  print(\"========================================\")\n",
    "  return "
   ]
  },
  {
   "cell_type": "code",
   "execution_count": 49,
   "metadata": {},
   "outputs": [],
   "source": [
    "# 교내 경로 정보 출력\n",
    "def print_map(graph):\n",
    "    print()\n",
    "    print(\"========================================\")\n",
    "    print(\"============교내 경로 정리===============\")\n",
    "    for i in graph:\n",
    "        for j in graph[i]:\n",
    "            print(f\"{i}->{j} 소요시간 : {graph[i][j]}분\")\n",
    "        print()\n",
    "    print(\"========================================\")\n",
    "    print()"
   ]
  },
  {
   "cell_type": "code",
   "execution_count": 51,
   "metadata": {},
   "outputs": [],
   "source": [
    "if __name__ == '__main__':\n",
    "    \n",
    "    # Input\n",
    "    graph = {\n",
    "        '경영': {'호암': 2, '인문': 2, '경제': 1, '홍곱창':15},\n",
    "        '호암': {'경영':2, '호암':2},\n",
    "        '인문': {'경영':2, '호암': 2, '경제': 2},\n",
    "        '경제': {'경영':1, '인문':2, '도서관': 4, '홍곱창': 18},\n",
    "        '도서관': {'경제':4, '홍곱창': 13},\n",
    "        '홍곱창': {'경영': 15, '경제': 18, '도서관':13}\n",
    "    }\n",
    "    while True:\n",
    "        cmd=input(\"1. 경로찾기 2. 경로 신규 등록, 3. 기존 경로 소요 시간 변경 4. 프로그램 종료\")\n",
    "        \n",
    "        # Output: 1. 경로 찾기\n",
    "        if cmd=='1':\n",
    "            print(\"입력 예시 : 경영 호암 인문 경제 도서관 홍곱창\")\n",
    "            start=input(\"시작점 >> \")\n",
    "            end=input(\"도착점 >> \")\n",
    "            if(start=='경영' or start=='호암' or start=='인문' or start=='경제' or start=='도서관' or start=='홍곱창' or end=='경영' or end=='호암' or end=='인문' or end=='경제' or end=='도서관' or end=='홍곱창'):\n",
    "                dijkstra(graph, start,end)\n",
    "            else:\n",
    "                print(\"잘못된 입력값입니다.\")\n",
    "        \n",
    "        # Input: 2. 경로 신규 등록 && 3. 기존 경로 소요 시간 변경      \n",
    "        elif cmd=='2' or cmd=='3':\n",
    "            start=input(\"출발 장소 >> \")\n",
    "            end=input(\"도착 장소 >> \")\n",
    "            time=int(input(\"소요 시간 >> \"))\n",
    "            route=defaultdict()\n",
    "            route[start]={end: time}\n",
    "            route[end]={start: time}\n",
    "            graph.update(route)\n",
    "            print_map(graph)\n",
    "        \n",
    "        # 4. 프로그램 종료   \n",
    "        elif cmd=='4':\n",
    "            break\n",
    "        \n",
    "        # 예외 처리\n",
    "        else:\n",
    "            print(\"잘못된 입력값입니다.\")\n"
   ]
  },
  {
   "cell_type": "code",
   "execution_count": null,
   "metadata": {},
   "outputs": [],
   "source": []
  }
 ],
 "metadata": {
  "kernelspec": {
   "display_name": "Python 3.9.12 ('base')",
   "language": "python",
   "name": "python3"
  },
  "language_info": {
   "codemirror_mode": {
    "name": "ipython",
    "version": 3
   },
   "file_extension": ".py",
   "mimetype": "text/x-python",
   "name": "python",
   "nbconvert_exporter": "python",
   "pygments_lexer": "ipython3",
   "version": "3.9.12"
  },
  "orig_nbformat": 4,
  "vscode": {
   "interpreter": {
    "hash": "bf59aa1e7a24315c7bdd2be2050ae0bdcec9da7e6e95bb62b9a6c0b6d98d33ad"
   }
  }
 },
 "nbformat": 4,
 "nbformat_minor": 2
}
